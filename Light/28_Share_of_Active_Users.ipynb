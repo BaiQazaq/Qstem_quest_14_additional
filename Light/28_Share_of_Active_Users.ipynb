{
 "cells": [
  {
   "cell_type": "markdown",
   "metadata": {},
   "source": [
    "Share of Active Users\n",
    "\n",
    "Output share of US users that are active. Active users are the ones with an \"open\" status in the table."
   ]
  },
  {
   "cell_type": "code",
   "execution_count": 1,
   "metadata": {},
   "outputs": [],
   "source": [
    "import pandas as pd"
   ]
  },
  {
   "cell_type": "code",
   "execution_count": 3,
   "metadata": {},
   "outputs": [
    {
     "data": {
      "text/html": [
       "<div>\n",
       "<style scoped>\n",
       "    .dataframe tbody tr th:only-of-type {\n",
       "        vertical-align: middle;\n",
       "    }\n",
       "\n",
       "    .dataframe tbody tr th {\n",
       "        vertical-align: top;\n",
       "    }\n",
       "\n",
       "    .dataframe thead th {\n",
       "        text-align: right;\n",
       "    }\n",
       "</style>\n",
       "<table border=\"1\" class=\"dataframe\">\n",
       "  <thead>\n",
       "    <tr style=\"text-align: right;\">\n",
       "      <th></th>\n",
       "      <th>user_id</th>\n",
       "      <th>name</th>\n",
       "      <th>status</th>\n",
       "      <th>country</th>\n",
       "    </tr>\n",
       "  </thead>\n",
       "  <tbody>\n",
       "    <tr>\n",
       "      <th>0</th>\n",
       "      <td>33</td>\n",
       "      <td>Amanda Leon</td>\n",
       "      <td>open</td>\n",
       "      <td>Australia</td>\n",
       "    </tr>\n",
       "    <tr>\n",
       "      <th>1</th>\n",
       "      <td>27</td>\n",
       "      <td>Jessica Farrell</td>\n",
       "      <td>open</td>\n",
       "      <td>Luxembourg</td>\n",
       "    </tr>\n",
       "    <tr>\n",
       "      <th>2</th>\n",
       "      <td>18</td>\n",
       "      <td>Wanda Ramirez</td>\n",
       "      <td>open</td>\n",
       "      <td>USA</td>\n",
       "    </tr>\n",
       "  </tbody>\n",
       "</table>\n",
       "</div>"
      ],
      "text/plain": [
       "   user_id             name status     country\n",
       "0       33      Amanda Leon   open   Australia\n",
       "1       27  Jessica Farrell   open  Luxembourg\n",
       "2       18    Wanda Ramirez   open         USA"
      ]
     },
     "execution_count": 3,
     "metadata": {},
     "output_type": "execute_result"
    }
   ],
   "source": [
    "fb_active_users = pd.read_csv(\"CSV/fb_active_users.csv\")\n",
    "fb_active_users = fb_active_users.iloc[:, :4]\n",
    "fb_active_users.head(3)"
   ]
  },
  {
   "cell_type": "code",
   "execution_count": 4,
   "metadata": {},
   "outputs": [
    {
     "data": {
      "text/html": [
       "<div>\n",
       "<style scoped>\n",
       "    .dataframe tbody tr th:only-of-type {\n",
       "        vertical-align: middle;\n",
       "    }\n",
       "\n",
       "    .dataframe tbody tr th {\n",
       "        vertical-align: top;\n",
       "    }\n",
       "\n",
       "    .dataframe thead th {\n",
       "        text-align: right;\n",
       "    }\n",
       "</style>\n",
       "<table border=\"1\" class=\"dataframe\">\n",
       "  <thead>\n",
       "    <tr style=\"text-align: right;\">\n",
       "      <th></th>\n",
       "      <th>user_count</th>\n",
       "    </tr>\n",
       "    <tr>\n",
       "      <th>status</th>\n",
       "      <th></th>\n",
       "    </tr>\n",
       "  </thead>\n",
       "  <tbody>\n",
       "    <tr>\n",
       "      <th>closed</th>\n",
       "      <td>3</td>\n",
       "    </tr>\n",
       "    <tr>\n",
       "      <th>open</th>\n",
       "      <td>3</td>\n",
       "    </tr>\n",
       "  </tbody>\n",
       "</table>\n",
       "</div>"
      ],
      "text/plain": [
       "        user_count\n",
       "status            \n",
       "closed           3\n",
       "open             3"
      ]
     },
     "execution_count": 4,
     "metadata": {},
     "output_type": "execute_result"
    }
   ],
   "source": [
    "result = fb_active_users[fb_active_users['country'] == 'USA'].groupby('status')['user_id'].count().to_frame('user_count')\n",
    "result"
   ]
  },
  {
   "cell_type": "code",
   "execution_count": 5,
   "metadata": {},
   "outputs": [
    {
     "data": {
      "text/plain": [
       "user_count    0.5\n",
       "Name: open, dtype: float64"
      ]
     },
     "execution_count": 5,
     "metadata": {},
     "output_type": "execute_result"
    }
   ],
   "source": [
    "result = result.loc['open'] / result['user_count'].sum()\n",
    "result"
   ]
  },
  {
   "cell_type": "markdown",
   "metadata": {},
   "source": [
    "Solution Walkthrough\n",
    "This solution involves analyzing a dataset of Facebook users and calculating the share of active users in the United States. The code filters the dataset for users from the USA, groups them by status, and counts the number of users with each status. Finally, it calculates the share of active users by dividing the count of users with \"open\" status by the total number of users.\n",
    "\n",
    "Understanding The Data\n",
    "The dataset fb_active_users contains information about active Facebook users. Each row represents a single user and includes columns such as user_id, country, and status. The country column stores the country of each user, while the status column indicates the status of the user's Facebook account.\n",
    "\n",
    "The Problem Statement\n",
    "The goal of this code is to determine the share of active users in the United States. To accomplish this, we need to calculate the percentage of users with an \"open\" status compared to the total number of users from the USA.\n",
    "\n",
    "Breaking Down The Code\n",
    "Let's break down the code step by step:\n",
    "\n",
    "result = (\n",
    "    fb_active_users[fb_active_users[\"country\"] == \"USA\"]\n",
    "    .groupby(\"status\")[\"user_id\"]\n",
    "    .count()\n",
    "    .to_frame(\"user_count\")\n",
    ")\n",
    "fb_active_users[fb_active_users['country'] == 'USA'] filters the fb_active_users dataframe to include only the rows where the country column is equal to 'USA'.\n",
    ".groupby('status')['user_id'].count() groups the filtered dataframe by the status column and counts the number of unique user_id values for each status.\n",
    ".to_frame('user_count') converts the resulting series into a dataframe with a column named 'user_count'. This step is optional but makes the code easier to read and understand.\n",
    "result = result.loc[\"open\"] / result[\"user_count\"].sum()\n",
    "result.loc['open'] retrieves the value in the 'open' row of the result dataframe. Since result has a single column named 'user_count', this will give us the count of users with an \"open\" status.\n",
    "/ result['user_count'].sum() calculates the share of active users by dividing the count of users with \"open\" status by the sum of all user counts for all statuses.\n",
    "Bringing It All Together\n",
    "The code first filters the fb_active_users dataframe to include only the users from the USA. Then, it groups the filtered dataframe by status and counts the number of users with each status. This information is stored in the result dataframe. Finally, it calculates the share of active users by dividing the count of users with \"open\" status by the total number of users.\n",
    "\n",
    "Conclusion\n",
    "The code successfully calculates the share of active users in the United States based on the given dataset."
   ]
  }
 ],
 "metadata": {
  "kernelspec": {
   "display_name": "venv",
   "language": "python",
   "name": "python3"
  },
  "language_info": {
   "codemirror_mode": {
    "name": "ipython",
    "version": 3
   },
   "file_extension": ".py",
   "mimetype": "text/x-python",
   "name": "python",
   "nbconvert_exporter": "python",
   "pygments_lexer": "ipython3",
   "version": "3.11.2"
  }
 },
 "nbformat": 4,
 "nbformat_minor": 2
}
