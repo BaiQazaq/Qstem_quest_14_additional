{
 "cells": [
  {
   "cell_type": "markdown",
   "metadata": {},
   "source": [
    "Count the number of movies that Abigail Breslin was nominated for an oscar."
   ]
  },
  {
   "cell_type": "code",
   "execution_count": 1,
   "metadata": {},
   "outputs": [],
   "source": [
    "import pandas as pd\n",
    "import numpy as np"
   ]
  },
  {
   "cell_type": "code",
   "execution_count": 5,
   "metadata": {},
   "outputs": [
    {
     "data": {
      "text/html": [
       "<div>\n",
       "<style scoped>\n",
       "    .dataframe tbody tr th:only-of-type {\n",
       "        vertical-align: middle;\n",
       "    }\n",
       "\n",
       "    .dataframe tbody tr th {\n",
       "        vertical-align: top;\n",
       "    }\n",
       "\n",
       "    .dataframe thead th {\n",
       "        text-align: right;\n",
       "    }\n",
       "</style>\n",
       "<table border=\"1\" class=\"dataframe\">\n",
       "  <thead>\n",
       "    <tr style=\"text-align: right;\">\n",
       "      <th></th>\n",
       "      <th>year</th>\n",
       "      <th>category</th>\n",
       "      <th>nominee</th>\n",
       "      <th>movie</th>\n",
       "      <th>winner</th>\n",
       "      <th>id</th>\n",
       "    </tr>\n",
       "  </thead>\n",
       "  <tbody>\n",
       "    <tr>\n",
       "      <th>0</th>\n",
       "      <td>2010</td>\n",
       "      <td>actor in a leading role</td>\n",
       "      <td>James Franco</td>\n",
       "      <td>127 Hours</td>\n",
       "      <td>False</td>\n",
       "      <td>648</td>\n",
       "    </tr>\n",
       "    <tr>\n",
       "      <th>1</th>\n",
       "      <td>2003</td>\n",
       "      <td>actor in a supporting role</td>\n",
       "      <td>Benicio Del Toro</td>\n",
       "      <td>21 Grams</td>\n",
       "      <td>False</td>\n",
       "      <td>139</td>\n",
       "    </tr>\n",
       "    <tr>\n",
       "      <th>2</th>\n",
       "      <td>2003</td>\n",
       "      <td>actress in a leading role</td>\n",
       "      <td>Naomi Watts</td>\n",
       "      <td>21 Grams</td>\n",
       "      <td>False</td>\n",
       "      <td>1119</td>\n",
       "    </tr>\n",
       "    <tr>\n",
       "      <th>3</th>\n",
       "      <td>2001</td>\n",
       "      <td>actress in a supporting role</td>\n",
       "      <td>Jennifer Connelly</td>\n",
       "      <td>A Beautiful Mind</td>\n",
       "      <td>True</td>\n",
       "      <td>710</td>\n",
       "    </tr>\n",
       "    <tr>\n",
       "      <th>4</th>\n",
       "      <td>2001</td>\n",
       "      <td>actor in a leading role</td>\n",
       "      <td>Russell Crowe</td>\n",
       "      <td>A Beautiful Mind</td>\n",
       "      <td>False</td>\n",
       "      <td>1315</td>\n",
       "    </tr>\n",
       "  </tbody>\n",
       "</table>\n",
       "</div>"
      ],
      "text/plain": [
       "   year                      category            nominee             movie  \\\n",
       "0  2010       actor in a leading role       James Franco         127 Hours   \n",
       "1  2003    actor in a supporting role   Benicio Del Toro          21 Grams   \n",
       "2  2003     actress in a leading role        Naomi Watts          21 Grams   \n",
       "3  2001  actress in a supporting role  Jennifer Connelly  A Beautiful Mind   \n",
       "4  2001       actor in a leading role      Russell Crowe  A Beautiful Mind   \n",
       "\n",
       "   winner    id  \n",
       "0   False   648  \n",
       "1   False   139  \n",
       "2   False  1119  \n",
       "3    True   710  \n",
       "4   False  1315  "
      ]
     },
     "execution_count": 5,
     "metadata": {},
     "output_type": "execute_result"
    }
   ],
   "source": [
    "oscar_nominees = pd.read_csv(\"CSV/oscar_nominees.csv\")\n",
    "columns_to_drop = ['Unnamed: 6']\n",
    "oscar_nominees = oscar_nominees.drop(columns=columns_to_drop)\n",
    "oscar_nominees.head()"
   ]
  },
  {
   "cell_type": "code",
   "execution_count": 6,
   "metadata": {},
   "outputs": [
    {
     "data": {
      "text/html": [
       "<div>\n",
       "<style scoped>\n",
       "    .dataframe tbody tr th:only-of-type {\n",
       "        vertical-align: middle;\n",
       "    }\n",
       "\n",
       "    .dataframe tbody tr th {\n",
       "        vertical-align: top;\n",
       "    }\n",
       "\n",
       "    .dataframe thead th {\n",
       "        text-align: right;\n",
       "    }\n",
       "</style>\n",
       "<table border=\"1\" class=\"dataframe\">\n",
       "  <thead>\n",
       "    <tr style=\"text-align: right;\">\n",
       "      <th></th>\n",
       "      <th>year</th>\n",
       "      <th>category</th>\n",
       "      <th>nominee</th>\n",
       "      <th>movie</th>\n",
       "      <th>winner</th>\n",
       "      <th>id</th>\n",
       "    </tr>\n",
       "  </thead>\n",
       "  <tbody>\n",
       "    <tr>\n",
       "      <th>123</th>\n",
       "      <td>2006</td>\n",
       "      <td>actress in a supporting role</td>\n",
       "      <td>Abigail Breslin</td>\n",
       "      <td>Little Miss Sunshine</td>\n",
       "      <td>False</td>\n",
       "      <td>1</td>\n",
       "    </tr>\n",
       "  </tbody>\n",
       "</table>\n",
       "</div>"
      ],
      "text/plain": [
       "     year                      category          nominee  \\\n",
       "123  2006  actress in a supporting role  Abigail Breslin   \n",
       "\n",
       "                    movie  winner  id  \n",
       "123  Little Miss Sunshine   False   1  "
      ]
     },
     "execution_count": 6,
     "metadata": {},
     "output_type": "execute_result"
    }
   ],
   "source": [
    "nominee = oscar_nominees[oscar_nominees['nominee'] == 'Abigail Breslin']\n",
    "nominee.head()"
   ]
  },
  {
   "cell_type": "code",
   "execution_count": 10,
   "metadata": {},
   "outputs": [
    {
     "data": {
      "text/plain": [
       "nominee          movie               \n",
       "Abigail Breslin  Little Miss Sunshine    1\n",
       "Name: movie, dtype: int64"
      ]
     },
     "execution_count": 10,
     "metadata": {},
     "output_type": "execute_result"
    }
   ],
   "source": [
    "result = nominee.groupby([\"nominee\", \"movie\"])['movie'].nunique()\n",
    "result"
   ]
  }
 ],
 "metadata": {
  "kernelspec": {
   "display_name": "venv",
   "language": "python",
   "name": "python3"
  },
  "language_info": {
   "codemirror_mode": {
    "name": "ipython",
    "version": 3
   },
   "file_extension": ".py",
   "mimetype": "text/x-python",
   "name": "python",
   "nbconvert_exporter": "python",
   "pygments_lexer": "ipython3",
   "version": "3.11.2"
  }
 },
 "nbformat": 4,
 "nbformat_minor": 2
}
