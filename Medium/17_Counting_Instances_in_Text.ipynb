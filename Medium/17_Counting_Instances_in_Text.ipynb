{
 "cells": [
  {
   "cell_type": "markdown",
   "metadata": {},
   "source": [
    "Counting Instances in Text\n",
    "\n",
    "Find the number of times the words 'bull' and 'bear' occur in the contents. We're counting the number of times the words occur so words like 'bullish' should not be included in our count.\n",
    "Output the word 'bull' and 'bear' along with the corresponding number of occurrences."
   ]
  },
  {
   "cell_type": "code",
   "execution_count": 3,
   "metadata": {},
   "outputs": [],
   "source": [
    "import pandas as pd\n",
    "import numpy as np"
   ]
  },
  {
   "cell_type": "code",
   "execution_count": 12,
   "metadata": {},
   "outputs": [
    {
     "data": {
      "text/html": [
       "<div>\n",
       "<style scoped>\n",
       "    .dataframe tbody tr th:only-of-type {\n",
       "        vertical-align: middle;\n",
       "    }\n",
       "\n",
       "    .dataframe tbody tr th {\n",
       "        vertical-align: top;\n",
       "    }\n",
       "\n",
       "    .dataframe thead th {\n",
       "        text-align: right;\n",
       "    }\n",
       "</style>\n",
       "<table border=\"1\" class=\"dataframe\">\n",
       "  <thead>\n",
       "    <tr style=\"text-align: right;\">\n",
       "      <th></th>\n",
       "      <th>Tаблица 1</th>\n",
       "      <th>Unnamed: 1</th>\n",
       "    </tr>\n",
       "  </thead>\n",
       "  <tbody>\n",
       "    <tr>\n",
       "      <th>0</th>\n",
       "      <td>filename</td>\n",
       "      <td>contents</td>\n",
       "    </tr>\n",
       "    <tr>\n",
       "      <th>1</th>\n",
       "      <td>draft1.txt</td>\n",
       "      <td>The stock exchange predicts a bull market whic...</td>\n",
       "    </tr>\n",
       "    <tr>\n",
       "      <th>2</th>\n",
       "      <td>draft2.txt</td>\n",
       "      <td>The stock exchange predicts a bull market whic...</td>\n",
       "    </tr>\n",
       "    <tr>\n",
       "      <th>3</th>\n",
       "      <td>final.txt</td>\n",
       "      <td>The stock exchange predicts a bull market whic...</td>\n",
       "    </tr>\n",
       "  </tbody>\n",
       "</table>\n",
       "</div>"
      ],
      "text/plain": [
       "    Tаблица 1                                         Unnamed: 1\n",
       "0    filename                                           contents\n",
       "1  draft1.txt  The stock exchange predicts a bull market whic...\n",
       "2  draft2.txt  The stock exchange predicts a bull market whic...\n",
       "3   final.txt  The stock exchange predicts a bull market whic..."
      ]
     },
     "execution_count": 12,
     "metadata": {},
     "output_type": "execute_result"
    }
   ],
   "source": [
    "google_file_store = pd.read_excel(\"../CSV/google_file_store.xlsx\")\n",
    "google_file_store"
   ]
  },
  {
   "cell_type": "code",
   "execution_count": 13,
   "metadata": {},
   "outputs": [
    {
     "data": {
      "text/html": [
       "<div>\n",
       "<style scoped>\n",
       "    .dataframe tbody tr th:only-of-type {\n",
       "        vertical-align: middle;\n",
       "    }\n",
       "\n",
       "    .dataframe tbody tr th {\n",
       "        vertical-align: top;\n",
       "    }\n",
       "\n",
       "    .dataframe thead th {\n",
       "        text-align: right;\n",
       "    }\n",
       "</style>\n",
       "<table border=\"1\" class=\"dataframe\">\n",
       "  <thead>\n",
       "    <tr style=\"text-align: right;\">\n",
       "      <th></th>\n",
       "      <th>filename</th>\n",
       "      <th>contents</th>\n",
       "    </tr>\n",
       "  </thead>\n",
       "  <tbody>\n",
       "    <tr>\n",
       "      <th>1</th>\n",
       "      <td>draft1.txt</td>\n",
       "      <td>The stock exchange predicts a bull market whic...</td>\n",
       "    </tr>\n",
       "    <tr>\n",
       "      <th>2</th>\n",
       "      <td>draft2.txt</td>\n",
       "      <td>The stock exchange predicts a bull market whic...</td>\n",
       "    </tr>\n",
       "    <tr>\n",
       "      <th>3</th>\n",
       "      <td>final.txt</td>\n",
       "      <td>The stock exchange predicts a bull market whic...</td>\n",
       "    </tr>\n",
       "  </tbody>\n",
       "</table>\n",
       "</div>"
      ],
      "text/plain": [
       "     filename                                           contents\n",
       "1  draft1.txt  The stock exchange predicts a bull market whic...\n",
       "2  draft2.txt  The stock exchange predicts a bull market whic...\n",
       "3   final.txt  The stock exchange predicts a bull market whic..."
      ]
     },
     "execution_count": 13,
     "metadata": {},
     "output_type": "execute_result"
    }
   ],
   "source": [
    "google_file_store.rename(columns={'Tаблица 1': 'filename', 'Unnamed: 1': 'contents'}, inplace=True)\n",
    "google_file_store = google_file_store.iloc[1:, :]\n",
    "#google_file_store.drop(0, inplace=True)\n",
    "google_file_store"
   ]
  },
  {
   "cell_type": "code",
   "execution_count": 14,
   "metadata": {},
   "outputs": [
    {
     "data": {
      "text/plain": [
       "{'word': ['bull', 'bear'], 'netry': [3, 2]}"
      ]
     },
     "execution_count": 14,
     "metadata": {},
     "output_type": "execute_result"
    }
   ],
   "source": [
    "data = {'word': ['bull','bear'],'netry': [google_file_store.contents.str.count(\" bull \").sum(),google_file_store.contents.str.count(\" bear \").sum()]}\n",
    "data"
   ]
  },
  {
   "cell_type": "code",
   "execution_count": 15,
   "metadata": {},
   "outputs": [
    {
     "data": {
      "text/html": [
       "<div>\n",
       "<style scoped>\n",
       "    .dataframe tbody tr th:only-of-type {\n",
       "        vertical-align: middle;\n",
       "    }\n",
       "\n",
       "    .dataframe tbody tr th {\n",
       "        vertical-align: top;\n",
       "    }\n",
       "\n",
       "    .dataframe thead th {\n",
       "        text-align: right;\n",
       "    }\n",
       "</style>\n",
       "<table border=\"1\" class=\"dataframe\">\n",
       "  <thead>\n",
       "    <tr style=\"text-align: right;\">\n",
       "      <th></th>\n",
       "      <th>word</th>\n",
       "      <th>netry</th>\n",
       "    </tr>\n",
       "  </thead>\n",
       "  <tbody>\n",
       "    <tr>\n",
       "      <th>0</th>\n",
       "      <td>bull</td>\n",
       "      <td>3</td>\n",
       "    </tr>\n",
       "    <tr>\n",
       "      <th>1</th>\n",
       "      <td>bear</td>\n",
       "      <td>2</td>\n",
       "    </tr>\n",
       "  </tbody>\n",
       "</table>\n",
       "</div>"
      ],
      "text/plain": [
       "   word  netry\n",
       "0  bull      3\n",
       "1  bear      2"
      ]
     },
     "execution_count": 15,
     "metadata": {},
     "output_type": "execute_result"
    }
   ],
   "source": [
    "result = pd.DataFrame(data, columns = ['word', 'netry'])\n",
    "result"
   ]
  },
  {
   "cell_type": "markdown",
   "metadata": {},
   "source": [
    "Solution Walkthrough\n",
    "This walkthrough will explain how to use pandas and numpy to find the number of times the words 'bull' and 'bear' occur in a dataset, and then output the word with its corresponding number of occurrences.\n",
    "\n",
    "Understanding The Data\n",
    "The data used in this code is assumed to be stored in a pandas DataFrame called google_file_store. This DataFrame contains a column called contents, which represents the text content of a file. Each row in this column represents the contents of a different file.\n",
    "\n",
    "The Problem Statement\n",
    "We want to count the number of times the words 'bull' and 'bear' occur in the contents of these files. However, we only want to count the exact occurrences of these words and not include variations like 'bullish'. We need to output the word 'bull' and 'bear' along with the corresponding number of occurrences.\n",
    "\n",
    "Breaking Down The Code\n",
    "Let's break down the code to understand each step:\n",
    "\n",
    "data = {'word': ['bull','bear'],'netry': [google_file_store.contents.str.count(\" bull \").sum(),google_file_store.contents.str.count(\" bear \").sum()]}\n",
    "result = pd.DataFrame(data, columns = ['word', 'netry'])\n",
    "We start by creating a dictionary called data with two keys: 'word' and 'netry'. The 'word' key maps to a list of the two words we want to count: 'bull' and 'bear'.\n",
    "The 'netry' key maps to a list that contains the count of 'bull' and 'bear' in the contents column of the google_file_store DataFrame. We use the str.count() method to count the occurrences of each word. The sum() function is then used to get the total count.\n",
    "Finally, we create a DataFrame called result using the pd.DataFrame() function, passing in the data dictionary and specifying the column names as 'word' and 'netry'.\n",
    "Bringing It All Together\n",
    "The complete solution code would look like this:\n",
    "\n",
    "import pandas as pd\n",
    "import numpy as np\n",
    "\n",
    "data = {\n",
    "    \"word\": [\"bull\", \"bear\"],\n",
    "    \"netry\": [\n",
    "        google_file_store.contents.str.count(\" bull \").sum(),\n",
    "        google_file_store.contents.str.count(\" bear \").sum(),\n",
    "    ],\n",
    "}\n",
    "result = pd.DataFrame(data, columns=[\"word\", \"netry\"])\n",
    "This code imports the required libraries, defines the data dictionary containing the words we want to count and their respective counts, and creates a DataFrame called result with the word and count columns.\n",
    "\n",
    "Conclusion\n",
    "In this walkthrough, we learned how to use pandas and numpy to count the occurrences of specific words in a dataset. By following the steps outlined in this walkthrough, you should be able to perform similar operations in your own projects."
   ]
  }
 ],
 "metadata": {
  "kernelspec": {
   "display_name": "venv",
   "language": "python",
   "name": "python3"
  },
  "language_info": {
   "codemirror_mode": {
    "name": "ipython",
    "version": 3
   },
   "file_extension": ".py",
   "mimetype": "text/x-python",
   "name": "python",
   "nbconvert_exporter": "python",
   "pygments_lexer": "ipython3",
   "version": "3.11.2"
  }
 },
 "nbformat": 4,
 "nbformat_minor": 2
}
